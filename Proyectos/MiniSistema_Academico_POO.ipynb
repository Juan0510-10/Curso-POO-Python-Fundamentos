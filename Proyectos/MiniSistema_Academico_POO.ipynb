{
 "cells": [
  {
   "cell_type": "markdown",
   "metadata": {},
   "source": [
    "# PROYECTO MINI SISTEMA ACADEMICO CON POO\n",
    "\n",
    "## Objetivo\n",
    "\n",
    "Aplicar de forma integral los conceptos de clases, objetos, atributos, metodos, encapsulamiento y metodos especiales para crear un sistema simple de gestión de estudiantes, materias y calificaciones"
   ]
  },
  {
   "cell_type": "markdown",
   "metadata": {},
   "source": [
    "1. ETRUCTURA DEL SISTEMA\n",
    "\n",
    "| CLASE | ATRIBUTOS | MÉTODOS PRINCIPALES |\n",
    "|-------|-----------|-------------------|\n",
    "| Alumno | cedula, nombre, edad, nota | puede_votar(), obtener_calificacion() |\n",
    "| Materia | nombre, creditos, docente | asignar_alumno(), listar_estudiantes() |\n",
    "| Sistema | materias(lista) | crear_materia(), ver_materias() |"
   ]
  },
  {
   "cell_type": "markdown",
   "metadata": {},
   "source": [
    "2. Requisitos funcionales\n",
    "\n",
    "* Registrar alumnos y asignarlos a materias\n",
    "* Listar los estudiantes de una materia\n",
    "* Consultar si un alumno aprueba la materia\n",
    "* Simular si puede votar por su edad\n",
    "* Mostrar resumen por alumno y por materia"
   ]
  },
  {
   "cell_type": "markdown",
   "metadata": {},
   "source": [
    "## ENUNCIADO\n",
    "\n",
    "1. Define una clase ALumno con atributos privados y metodos públicos(get,set,__str__)\n",
    "2. Define una clase Materia que pueda contener multiples objetos Alumno\n",
    "3. Agrega funcionalidad para agregar alumnos a una materia\n",
    "4. Implementa una clase SistemaAcademico que administre múltiples materias\n",
    "5. Muestra toda la información de alumnos por materia"
   ]
  },
  {
   "cell_type": "code",
   "execution_count": 1,
   "metadata": {},
   "outputs": [
    {
     "name": "stdout",
     "output_type": "stream",
     "text": [
      "Materia: Matemáticas | Créditos: 4 | Docente: Nestor\n",
      "Estudiantes:\n",
      "Alumno: Juan | Cédula: 123 | Edad: 20 | Nota: 3.7 (Aprobado)\n",
      "Alumno: Laura | Cédula: 456 | Edad: 17 | Nota: 2.8 (Reprobado)\n",
      "----------------------------------------\n",
      "Materia: Historia | Créditos: 3 | Docente: Catalina\n",
      "Estudiantes:\n",
      "Sin estudiantes registrados.\n",
      "----------------------------------------\n"
     ]
    }
   ],
   "source": [
    "class Alumno:\n",
    "    def __init__(self, cedula, nombre, edad, nota):\n",
    "        self.__cedula = cedula\n",
    "        self.__nombre = nombre\n",
    "        self.__edad = edad\n",
    "        self.__nota = nota\n",
    "\n",
    "    def get_cedula(self): return self.__cedula\n",
    "    def get_nombre(self): return self.__nombre\n",
    "    def get_edad(self): return self.__edad\n",
    "    def get_nota(self): return self.__nota\n",
    "\n",
    "    def set_nombre(self, nombre): self.__nombre = nombre\n",
    "    def set_edad(self, edad): self.__edad = edad\n",
    "    def set_nota(self, nota): self.__nota = nota\n",
    "\n",
    "    def puede_votar(self):\n",
    "        return self.__edad >= 18\n",
    "\n",
    "    def obtener_calificacion(self):\n",
    "        return \"Aprobado\" if self.__nota >= 3.0 else \"Reprobado\"\n",
    "\n",
    "    def __str__(self):\n",
    "        return f\"Alumno: {self.__nombre} | Cédula: {self.__cedula} | Edad: {self.__edad} | Nota: {self.__nota} ({self.obtener_calificacion()})\"\n",
    "\n",
    "class Materia:\n",
    "    def __init__(self, nombre, creditos, docente):\n",
    "        self.nombre = nombre\n",
    "        self.creditos = creditos\n",
    "        self.docente = docente\n",
    "        self.alumnos = []\n",
    "\n",
    "    def asignar_alumno(self, alumno):\n",
    "        self.alumnos.append(alumno)\n",
    "\n",
    "    def listar_estudiantes(self):\n",
    "        return \"\\n\".join([str(al) for al in self.alumnos]) if self.alumnos else \"Sin estudiantes registrados.\"\n",
    "\n",
    "    def __str__(self):\n",
    "        return f\"Materia: {self.nombre} | Créditos: {self.creditos} | Docente: {self.docente}\\nEstudiantes:\\n{self.listar_estudiantes()}\"\n",
    "\n",
    "class SistemaAcademico:\n",
    "    def __init__(self):\n",
    "        self.materias = []\n",
    "\n",
    "    def crear_materia(self, nombre, creditos, docente):\n",
    "        materia = Materia(nombre, creditos, docente)\n",
    "        self.materias.append(materia)\n",
    "\n",
    "    def ver_materias(self):\n",
    "        for idx, m in enumerate(self.materias, 1):\n",
    "            print(f\"{idx}. {m.nombre} - Docente: {m.docente}\")\n",
    "\n",
    "    def mostrar_resumen(self):\n",
    "        for materia in self.materias:\n",
    "            print(materia)\n",
    "            print(\"-\" * 40)\n",
    "\n",
    "\n",
    "A1 = Alumno(\"123\", \"Juan\", 20, 3.7)\n",
    "A2 = Alumno(\"456\", \"Laura\", 17, 2.8)\n",
    "\n",
    "sistema = SistemaAcademico()\n",
    "sistema.crear_materia(\"Matemáticas\", 4, \"Nestor\")\n",
    "sistema.crear_materia(\"Historia\", 3, \"Catalina\")\n",
    "\n",
    "sistema.materias[0].asignar_alumno(A1)\n",
    "sistema.materias[0].asignar_alumno(A2)\n",
    "\n",
    "sistema.mostrar_resumen()"
   ]
  },
  {
   "cell_type": "markdown",
   "metadata": {},
   "source": []
  }
 ],
 "metadata": {
  "kernelspec": {
   "display_name": "Python 3",
   "language": "python",
   "name": "python3"
  },
  "language_info": {
   "codemirror_mode": {
    "name": "ipython",
    "version": 3
   },
   "file_extension": ".py",
   "mimetype": "text/x-python",
   "name": "python",
   "nbconvert_exporter": "python",
   "pygments_lexer": "ipython3",
   "version": "3.13.3"
  }
 },
 "nbformat": 4,
 "nbformat_minor": 2
}
